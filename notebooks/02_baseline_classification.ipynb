{
  "nbformat": 4,
  "nbformat_minor": 0,
  "metadata": {
    "colab": {
      "provenance": [],
      "authorship_tag": "ABX9TyN3KftLqcNOqbJRTm7Jrja7",
      "include_colab_link": true
    },
    "kernelspec": {
      "name": "python3",
      "display_name": "Python 3"
    },
    "language_info": {
      "name": "python"
    }
  },
  "cells": [
    {
      "cell_type": "markdown",
      "metadata": {
        "id": "view-in-github",
        "colab_type": "text"
      },
      "source": [
        "<a href=\"https://colab.research.google.com/github/Febri-ElectricalEngineering/CapstoneProject/blob/main/notebooks/02_baseline_classification.ipynb\" target=\"_parent\"><img src=\"https://colab.research.google.com/assets/colab-badge.svg\" alt=\"Open In Colab\"/></a>"
      ]
    },
    {
      "cell_type": "code",
      "execution_count": 1,
      "metadata": {
        "id": "dBxlsn65czqO"
      },
      "outputs": [],
      "source": [
        "!pip -q install scikit-learn matplotlib pandas joblib"
      ]
    },
    {
      "cell_type": "code",
      "source": [
        "import os, json\n",
        "import pandas as pd\n",
        "from joblib import dump\n",
        "from sklearn.feature_extraction.text import TfidfVectorizer\n",
        "from sklearn.pipeline import Pipeline\n",
        "from sklearn.svm import LinearSVC\n",
        "from sklearn.metrics import f1_score, classification_report, confusion_matrix\n",
        "import matplotlib.pyplot as plt\n",
        "import numpy as np"
      ],
      "metadata": {
        "id": "6bgId5gEdWp6"
      },
      "execution_count": 2,
      "outputs": []
    },
    {
      "cell_type": "code",
      "source": [
        "TRAIN = \"data/bbc_cls/train.csv\"\n",
        "TEST  = \"data/bbc_cls/test.csv\""
      ],
      "metadata": {
        "id": "9mHi9i37dWny"
      },
      "execution_count": 3,
      "outputs": []
    },
    {
      "cell_type": "code",
      "source": [
        "import os, shutil\n",
        "from pathlib import Path\n",
        "\n",
        "os.makedirs('data/bbc_cls', exist_ok=True)\n",
        "os.makedirs('data/bbc_sum', exist_ok=True)\n",
        "\n",
        "if os.path.exists('bbc_news_summary.csv') and not os.path.exists('data/bbc_sum/bbc_news_summary.csv'):\n",
        "    shutil.move('bbc_news_summary.csv', 'data/bbc_sum/bbc_news_summary.csv')\n",
        "print(\"OK: struktur siap. CSV summary ada?\", os.path.exists('data/bbc_sum/bbc_news_summary.csv'))"
      ],
      "metadata": {
        "colab": {
          "base_uri": "https://localhost:8080/"
        },
        "id": "6t98hgneemex",
        "outputId": "656f83c9-999e-4ead-a69e-6c6d9c1a2989"
      },
      "execution_count": 6,
      "outputs": [
        {
          "output_type": "stream",
          "name": "stdout",
          "text": [
            "OK: struktur siap. CSV summary ada? False\n"
          ]
        }
      ]
    },
    {
      "cell_type": "code",
      "source": [
        "import os, re, glob, zipfile, shutil\n",
        "from pathlib import Path\n",
        "\n",
        "try:\n",
        "    from google.colab import drive\n",
        "    if not os.path.ismount('/content/drive'):\n",
        "        drive.mount('/content/drive')\n",
        "except Exception:\n",
        "    pass\n",
        "\n",
        "search_roots = ['/content']\n",
        "if os.path.isdir('/content/drive/MyDrive'):\n",
        "    search_roots.append('/content/drive/MyDrive')\n",
        "\n",
        "cands = []\n",
        "for root in search_roots:\n",
        "    cands += [p for p in glob.glob(os.path.join(root, '**', '*.zip'), recursive=True)\n",
        "              if re.search(r'bbc', os.path.basename(p), re.I)]\n",
        "\n",
        "print(\"Kandidat ZIP:\", cands[:10])\n",
        "assert cands, (\"Tidak ada file ZIP berisi 'bbc' yang ditemukan.\\n\"\n",
        "               \"- Jika file ada di komputer: kiri Colab → Files → Upload → pilih ZIP BBC.\\n\"\n",
        "               \"- Atau pastikan namanya mengandung 'bbc' (mis. BBC.zip, bbc_2225.zip).\")\n",
        "\n",
        "zip_path = cands[0]\n",
        "print(\"Pakai ZIP:\", zip_path)\n",
        "\n",
        "extract_root = Path('data/bbc_cls/extracted')\n",
        "if extract_root.exists():\n",
        "    shutil.rmtree(extract_root)\n",
        "extract_root.mkdir(parents=True, exist_ok=True)\n",
        "\n",
        "with zipfile.ZipFile(zip_path) as zf:\n",
        "    zf.extractall(extract_root)\n",
        "\n",
        "target = {'business','entertainment','politics','sport','tech'}\n",
        "BBC_DIR = None\n",
        "for p in extract_root.rglob('*'):\n",
        "    if p.is_dir():\n",
        "        subdirs = {d.name.lower() for d in p.iterdir() if d.is_dir()}\n",
        "        if target.issubset(subdirs):\n",
        "            BBC_DIR = p\n",
        "            break\n",
        "\n",
        "assert BBC_DIR is not None, (\n",
        "    \"Folder kategori tidak ditemukan di dalam ZIP.\\n\"\n",
        "    \"Pastikan ZIP berisi subfolder: business, entertainment, politics, sport, tech.\"\n",
        ")\n",
        "\n",
        "print(\"BBC_DIR ->\", BBC_DIR)\n"
      ],
      "metadata": {
        "colab": {
          "base_uri": "https://localhost:8080/"
        },
        "id": "ycc5i0jyet_t",
        "outputId": "6e32d823-99ce-4852-fb4b-3d8456ba8ad9"
      },
      "execution_count": 10,
      "outputs": [
        {
          "output_type": "stream",
          "name": "stdout",
          "text": [
            "Kandidat ZIP: ['/content/BBC.zip']\n",
            "Pakai ZIP: /content/BBC.zip\n",
            "BBC_DIR -> data/bbc_cls/extracted/bbc\n"
          ]
        }
      ]
    },
    {
      "cell_type": "code",
      "source": [
        "import os, zipfile, shutil\n",
        "from pathlib import Path"
      ],
      "metadata": {
        "id": "53Cq0dDcdWjc"
      },
      "execution_count": 11,
      "outputs": []
    },
    {
      "cell_type": "code",
      "source": [
        "zip_candidates = ['BBC.zip','bbc.zip','BBC_2225.zip','bbc_2225.zip']\n",
        "zip_path = next((z for z in zip_candidates if os.path.exists(z)), None)\n",
        "assert zip_path is not None, \"Tidak menemukan BBC.zip di /content. Pastikan file ZIP sudah di-upload (namanya 'BBC.zip').\""
      ],
      "metadata": {
        "id": "FxV4MwAidWhV"
      },
      "execution_count": 12,
      "outputs": []
    },
    {
      "cell_type": "code",
      "source": [
        "extract_root = Path('data/bbc_cls/extracted')\n",
        "if extract_root.exists():\n",
        "    shutil.rmtree(extract_root)\n",
        "extract_root.mkdir(parents=True, exist_ok=True)\n",
        "\n",
        "with zipfile.ZipFile(zip_path) as zf:\n",
        "    zf.extractall(extract_root)\n"
      ],
      "metadata": {
        "id": "v0OKj8lVdWfa"
      },
      "execution_count": 13,
      "outputs": []
    },
    {
      "cell_type": "code",
      "source": [
        "target = {'business','entertainment','politics','sport','tech'}\n",
        "BBC_DIR = None\n",
        "for p in extract_root.rglob('*'):\n",
        "    if p.is_dir():\n",
        "        subdirs = {d.name.lower() for d in p.iterdir() if d.is_dir()}\n",
        "        if target.issubset(subdirs):\n",
        "            BBC_DIR = p\n",
        "            break\n",
        "\n",
        "assert BBC_DIR is not None, (\n",
        "    \"Tidak menemukan folder dengan subfolder business/entertainment/politics/sport/tech.\\n\"\n",
        "    \"Cek isi ZIP kamu—pastikan isinya memang 5 folder kategori.\"\n",
        ")\n",
        "\n",
        "print(\"BBC_DIR ->\", BBC_DIR)"
      ],
      "metadata": {
        "colab": {
          "base_uri": "https://localhost:8080/"
        },
        "id": "_Ry7g51-dWdi",
        "outputId": "6a309161-aec3-4a24-807d-f6162cba40c4"
      },
      "execution_count": 14,
      "outputs": [
        {
          "output_type": "stream",
          "name": "stdout",
          "text": [
            "BBC_DIR -> data/bbc_cls/extracted/bbc\n"
          ]
        }
      ]
    },
    {
      "cell_type": "code",
      "source": [
        "import pandas as pd\n",
        "from pathlib import Path\n",
        "from sklearn.model_selection import train_test_split\n",
        "\n",
        "rows = []\n",
        "for label in ['business','entertainment','politics','sport','tech']:\n",
        "    for p in (BBC_DIR/label).glob('*.txt'):\n",
        "        txt = Path(p).read_text(encoding='latin-1', errors='ignore')\n",
        "        rows.append({'text': \" \".join(txt.split()), 'label': label})\n",
        "df = pd.DataFrame(rows)\n",
        "print(\"Total dokumen:\", len(df), df['label'].value_counts().to_dict())\n",
        "\n",
        "train, test = train_test_split(df, test_size=0.2, stratify=df['label'], random_state=42)\n",
        "Path('data/bbc_cls').mkdir(parents=True, exist_ok=True)\n",
        "train.to_csv('data/bbc_cls/train.csv', index=False)\n",
        "test.to_csv('data/bbc_cls/test.csv', index=False)\n",
        "\n",
        "print(\"OK: dibuat -> data/bbc_cls/train.csv & data/bbc_cls/test.csv\")\n"
      ],
      "metadata": {
        "colab": {
          "base_uri": "https://localhost:8080/"
        },
        "id": "ksbN_n4ndWb1",
        "outputId": "4e99597a-17e0-41a4-e6f8-26c357e74147"
      },
      "execution_count": 15,
      "outputs": [
        {
          "output_type": "stream",
          "name": "stdout",
          "text": [
            "Total dokumen: 2225 {'sport': 511, 'business': 510, 'politics': 417, 'tech': 401, 'entertainment': 386}\n",
            "OK: dibuat -> data/bbc_cls/train.csv & data/bbc_cls/test.csv\n"
          ]
        }
      ]
    },
    {
      "cell_type": "code",
      "source": [
        "import pandas as pd, numpy as np\n",
        "from pathlib import Path\n",
        "\n",
        "TRAIN = Path('data/bbc_cls/train.csv')\n",
        "TEST  = Path('data/bbc_cls/test.csv')\n",
        "assert TRAIN.exists() and TEST.exists(), \"train/test belum ada. Balik ke 01_eda untuk bikin split.\"\n",
        "\n",
        "train = pd.read_csv(TRAIN)\n",
        "test  = pd.read_csv(TEST)\n",
        "\n",
        "labels = sorted(train['label'].unique())\n",
        "len(train), len(test), labels"
      ],
      "metadata": {
        "colab": {
          "base_uri": "https://localhost:8080/"
        },
        "id": "WXIXImyKdWZu",
        "outputId": "01609a5d-02c2-4371-e7e0-ec0238c0f910"
      },
      "execution_count": 16,
      "outputs": [
        {
          "output_type": "execute_result",
          "data": {
            "text/plain": [
              "(1780, 445, ['business', 'entertainment', 'politics', 'sport', 'tech'])"
            ]
          },
          "metadata": {},
          "execution_count": 16
        }
      ]
    },
    {
      "cell_type": "code",
      "source": [
        "from sklearn.feature_extraction.text import TfidfVectorizer\n",
        "from sklearn.svm import LinearSVC\n",
        "from sklearn.linear_model import LogisticRegression\n",
        "from sklearn.metrics import classification_report, f1_score, confusion_matrix\n",
        "import matplotlib.pyplot as plt\n",
        "\n",
        "tfidf = TfidfVectorizer(\n",
        "    ngram_range=(1,2),\n",
        "    min_df=2,\n",
        "    max_df=0.9,\n",
        "    sublinear_tf=True\n",
        ")\n",
        "\n",
        "Xtr = tfidf.fit_transform(train['text'])\n",
        "Xte = tfidf.transform(test['text'])\n",
        "ytr = train['label']\n",
        "yte = test['label']\n",
        "\n",
        "svm = LinearSVC()\n",
        "svm.fit(Xtr, ytr)\n",
        "pred_svm = svm.predict(Xte)\n",
        "f1_svm = f1_score(yte, pred_svm, average='macro')\n",
        "\n",
        "lr = LogisticRegression(max_iter=2000, solver='liblinear')\n",
        "lr.fit(Xtr, ytr)\n",
        "pred_lr = lr.predict(Xte)\n",
        "f1_lr = f1_score(yte, pred_lr, average='macro')\n",
        "\n",
        "print(f\"Macro-F1  LinearSVC: {f1_svm:.3f}\")\n",
        "print(f\"Macro-F1  LogReg   : {f1_lr:.3f}\")\n",
        "\n",
        "best_name, best_pred, best_model = (\n",
        "    (\"LinearSVC\", pred_svm, svm) if f1_svm >= f1_lr else (\"LogReg\", pred_lr, lr)\n",
        ")\n",
        "print(\"Best model:\", best_name)\n",
        "\n",
        "print(\"\\nClassification report:\\n\")\n",
        "print(classification_report(yte, best_pred, digits=3))\n",
        "\n",
        "cm = confusion_matrix(yte, best_pred, labels=labels)\n",
        "\n",
        "plt.figure(figsize=(6,5))\n",
        "im = plt.imshow(cm, interpolation=\"nearest\")\n",
        "plt.title(f\"Confusion Matrix ({best_name})\")\n",
        "plt.xlabel(\"Predicted\"); plt.ylabel(\"True\")\n",
        "plt.xticks(range(len(labels)), labels, rotation=45, ha=\"right\")\n",
        "plt.yticks(range(len(labels)), labels)\n",
        "for i in range(cm.shape[0]):\n",
        "    for j in range(cm.shape[1]):\n",
        "        plt.text(j, i, cm[i, j], ha=\"center\", va=\"center\")\n",
        "plt.colorbar(im)\n",
        "plt.tight_layout()\n",
        "plt.show()\n"
      ],
      "metadata": {
        "colab": {
          "base_uri": "https://localhost:8080/",
          "height": 847
        },
        "id": "ISx_1V3CdWXY",
        "outputId": "74ef37a2-bd7a-4a73-f225-71a3e6158e76"
      },
      "execution_count": 19,
      "outputs": [
        {
          "output_type": "stream",
          "name": "stdout",
          "text": [
            "Macro-F1  LinearSVC: 0.989\n",
            "Macro-F1  LogReg   : 0.986\n",
            "Best model: LinearSVC\n",
            "\n",
            "Classification report:\n",
            "\n",
            "               precision    recall  f1-score   support\n",
            "\n",
            "     business      0.980     0.980     0.980       102\n",
            "entertainment      1.000     0.987     0.993        77\n",
            "     politics      0.976     0.988     0.982        84\n",
            "        sport      1.000     1.000     1.000       102\n",
            "         tech      0.988     0.988     0.988        80\n",
            "\n",
            "     accuracy                          0.989       445\n",
            "    macro avg      0.989     0.989     0.989       445\n",
            " weighted avg      0.989     0.989     0.989       445\n",
            "\n"
          ]
        },
        {
          "output_type": "display_data",
          "data": {
            "text/plain": [
              "<Figure size 600x500 with 2 Axes>"
            ],
            "image/png": "[encoded data removed]"
          },
          "metadata": {}
        }
      ]
    },
    {
      "cell_type": "code",
      "source": [
        "from pathlib import Path\n",
        "import joblib\n",
        "\n",
        "Path('data/bbc_cls').mkdir(parents=True, exist_ok=True)\n",
        "out = test.copy()\n",
        "out['pred'] = best_pred\n",
        "out.to_csv('data/bbc_cls/baseline_preds.csv', index=False)\n",
        "\n",
        "with open('data/bbc_cls/baseline_report.txt','w') as f:\n",
        "    f.write(classification_report(yte, best_pred, digits=3))\n",
        "\n",
        "Path('data/models').mkdir(parents=True, exist_ok=True)\n",
        "joblib.dump({'vectorizer': tfidf, 'model': best_model, 'labels': labels},\n",
        "            'data/models/baseline_tfidf.joblib')\n",
        "\n",
        "print(\"Saved:\")\n",
        "print(\"- data/bbc_cls/baseline_preds.csv\")\n",
        "print(\"- data/bbc_cls/baseline_report.txt\")\n",
        "print(\"- data/models/baseline_tfidf.joblib\")"
      ],
      "metadata": {
        "colab": {
          "base_uri": "https://localhost:8080/"
        },
        "id": "Fvm1pl8-dWVj",
        "outputId": "58da5648-7975-47fd-b396-3b28d8a6e005"
      },
      "execution_count": 20,
      "outputs": [
        {
          "output_type": "stream",
          "name": "stdout",
          "text": [
            "Saved:\n",
            "- data/bbc_cls/baseline_preds.csv\n",
            "- data/bbc_cls/baseline_report.txt\n",
            "- data/models/baseline_tfidf.joblib\n"
          ]
        }
      ]
    },
    {
      "cell_type": "code",
      "source": [
        "from google.colab import files\n",
        "files.download('data/bbc_cls/baseline_preds.csv')\n",
        "files.download('data/bbc_cls/baseline_report.txt')\n",
        "files.download('data/models/baseline_tfidf.joblib')"
      ],
      "metadata": {
        "colab": {
          "base_uri": "https://localhost:8080/",
          "height": 17
        },
        "id": "SSqUVMledWTe",
        "outputId": "54857552-0bf5-4814-e573-fe794cbf5903"
      },
      "execution_count": 25,
      "outputs": [
        {
          "output_type": "display_data",
          "data": {
            "text/plain": [
              "<IPython.core.display.Javascript object>"
            ],
            "application/javascript": [
              "\n",
              "    async function download(id, filename, size) {\n",
              "      if (!google.colab.kernel.accessAllowed) {\n",
              "        return;\n",
              "      }\n",
              "      const div = document.createElement('div');\n",
              "      const label = document.createElement('label');\n",
              "      label.textContent = `Downloading \"${filename}\": `;\n",
              "      div.appendChild(label);\n",
              "      const progress = document.createElement('progress');\n",
              "      progress.max = size;\n",
              "      div.appendChild(progress);\n",
              "      document.body.appendChild(div);\n",
              "\n",
              "      const buffers = [];\n",
              "      let downloaded = 0;\n",
              "\n",
              "      const channel = await google.colab.kernel.comms.open(id);\n",
              "      // Send a message to notify the kernel that we're ready.\n",
              "      channel.send({})\n",
              "\n",
              "      for await (const message of channel.messages) {\n",
              "        // Send a message to notify the kernel that we're ready.\n",
              "        channel.send({})\n",
              "        if (message.buffers) {\n",
              "          for (const buffer of message.buffers) {\n",
              "            buffers.push(buffer);\n",
              "            downloaded += buffer.byteLength;\n",
              "            progress.value = downloaded;\n",
              "          }\n",
              "        }\n",
              "      }\n",
              "      const blob = new Blob(buffers, {type: 'application/binary'});\n",
              "      const a = document.createElement('a');\n",
              "      a.href = window.URL.createObjectURL(blob);\n",
              "      a.download = filename;\n",
              "      div.appendChild(a);\n",
              "      a.click();\n",
              "      div.remove();\n",
              "    }\n",
              "  "
            ]
          },
          "metadata": {}
        },
        {
          "output_type": "display_data",
          "data": {
            "text/plain": [
              "<IPython.core.display.Javascript object>"
            ],
            "application/javascript": [
              "download(\"download_d29a701c-7822-4112-a90a-ae664f7ad212\", \"baseline_preds.csv\", 1032826)"
            ]
          },
          "metadata": {}
        },
        {
          "output_type": "display_data",
          "data": {
            "text/plain": [
              "<IPython.core.display.Javascript object>"
            ],
            "application/javascript": [
              "\n",
              "    async function download(id, filename, size) {\n",
              "      if (!google.colab.kernel.accessAllowed) {\n",
              "        return;\n",
              "      }\n",
              "      const div = document.createElement('div');\n",
              "      const label = document.createElement('label');\n",
              "      label.textContent = `Downloading \"${filename}\": `;\n",
              "      div.appendChild(label);\n",
              "      const progress = document.createElement('progress');\n",
              "      progress.max = size;\n",
              "      div.appendChild(progress);\n",
              "      document.body.appendChild(div);\n",
              "\n",
              "      const buffers = [];\n",
              "      let downloaded = 0;\n",
              "\n",
              "      const channel = await google.colab.kernel.comms.open(id);\n",
              "      // Send a message to notify the kernel that we're ready.\n",
              "      channel.send({})\n",
              "\n",
              "      for await (const message of channel.messages) {\n",
              "        // Send a message to notify the kernel that we're ready.\n",
              "        channel.send({})\n",
              "        if (message.buffers) {\n",
              "          for (const buffer of message.buffers) {\n",
              "            buffers.push(buffer);\n",
              "            downloaded += buffer.byteLength;\n",
              "            progress.value = downloaded;\n",
              "          }\n",
              "        }\n",
              "      }\n",
              "      const blob = new Blob(buffers, {type: 'application/binary'});\n",
              "      const a = document.createElement('a');\n",
              "      a.href = window.URL.createObjectURL(blob);\n",
              "      a.download = filename;\n",
              "      div.appendChild(a);\n",
              "      a.click();\n",
              "      div.remove();\n",
              "    }\n",
              "  "
            ]
          },
          "metadata": {}
        },
        {
          "output_type": "display_data",
          "data": {
            "text/plain": [
              "<IPython.core.display.Javascript object>"
            ],
            "application/javascript": [
              "download(\"download_5e6c4701-d37b-4ccb-8938-1a3baa3ad892\", \"baseline_report.txt\", 497)"
            ]
          },
          "metadata": {}
        },
        {
          "output_type": "display_data",
          "data": {
            "text/plain": [
              "<IPython.core.display.Javascript object>"
            ],
            "application/javascript": [
              "\n",
              "    async function download(id, filename, size) {\n",
              "      if (!google.colab.kernel.accessAllowed) {\n",
              "        return;\n",
              "      }\n",
              "      const div = document.createElement('div');\n",
              "      const label = document.createElement('label');\n",
              "      label.textContent = `Downloading \"${filename}\": `;\n",
              "      div.appendChild(label);\n",
              "      const progress = document.createElement('progress');\n",
              "      progress.max = size;\n",
              "      div.appendChild(progress);\n",
              "      document.body.appendChild(div);\n",
              "\n",
              "      const buffers = [];\n",
              "      let downloaded = 0;\n",
              "\n",
              "      const channel = await google.colab.kernel.comms.open(id);\n",
              "      // Send a message to notify the kernel that we're ready.\n",
              "      channel.send({})\n",
              "\n",
              "      for await (const message of channel.messages) {\n",
              "        // Send a message to notify the kernel that we're ready.\n",
              "        channel.send({})\n",
              "        if (message.buffers) {\n",
              "          for (const buffer of message.buffers) {\n",
              "            buffers.push(buffer);\n",
              "            downloaded += buffer.byteLength;\n",
              "            progress.value = downloaded;\n",
              "          }\n",
              "        }\n",
              "      }\n",
              "      const blob = new Blob(buffers, {type: 'application/binary'});\n",
              "      const a = document.createElement('a');\n",
              "      a.href = window.URL.createObjectURL(blob);\n",
              "      a.download = filename;\n",
              "      div.appendChild(a);\n",
              "      a.click();\n",
              "      div.remove();\n",
              "    }\n",
              "  "
            ]
          },
          "metadata": {}
        },
        {
          "output_type": "display_data",
          "data": {
            "text/plain": [
              "<IPython.core.display.Javascript object>"
            ],
            "application/javascript": [
              "download(\"download_0441099c-6567-4756-90ed-bb4cad8e35fc\", \"baseline_tfidf.joblib\", 6102471)"
            ]
          },
          "metadata": {}
        }
      ]
    },
    {
      "cell_type": "code",
      "source": [],
      "metadata": {
        "id": "F4zw3ioYdWQ9"
      },
      "execution_count": null,
      "outputs": []
    },
    {
      "cell_type": "code",
      "source": [],
      "metadata": {
        "id": "Reo-LVrxdWPD"
      },
      "execution_count": null,
      "outputs": []
    },
    {
      "cell_type": "code",
      "source": [],
      "metadata": {
        "id": "NlnCMPxedWNA"
      },
      "execution_count": null,
      "outputs": []
    },
    {
      "cell_type": "code",
      "source": [],
      "metadata": {
        "id": "nQh0awI9dWKw"
      },
      "execution_count": null,
      "outputs": []
    },
    {
      "cell_type": "code",
      "source": [],
      "metadata": {
        "id": "qzY4exRhdWJO"
      },
      "execution_count": null,
      "outputs": []
    },
    {
      "cell_type": "code",
      "source": [],
      "metadata": {
        "id": "wPSWosjCdWHT"
      },
      "execution_count": null,
      "outputs": []
    },
    {
      "cell_type": "code",
      "source": [],
      "metadata": {
        "id": "OUsZXulmdWFP"
      },
      "execution_count": null,
      "outputs": []
    },
    {
      "cell_type": "code",
      "source": [],
      "metadata": {
        "id": "TUljKe0edWDb"
      },
      "execution_count": null,
      "outputs": []
    },
    {
      "cell_type": "code",
      "source": [],
      "metadata": {
        "id": "TIGdnjUUdWBh"
      },
      "execution_count": null,
      "outputs": []
    },
    {
      "cell_type": "code",
      "source": [],
      "metadata": {
        "id": "WPUiVPcTdV_v"
      },
      "execution_count": null,
      "outputs": []
    },
    {
      "cell_type": "code",
      "source": [],
      "metadata": {
        "id": "Sv5ZbD3gdV9z"
      },
      "execution_count": null,
      "outputs": []
    },
    {
      "cell_type": "code",
      "source": [],
      "metadata": {
        "id": "K0dp1PUMdV7w"
      },
      "execution_count": null,
      "outputs": []
    },
    {
      "cell_type": "code",
      "source": [],
      "metadata": {
        "id": "amzTUAmvdV5S"
      },
      "execution_count": null,
      "outputs": []
    },
    {
      "cell_type": "code",
      "source": [],
      "metadata": {
        "id": "tq2IgPv7dVzn"
      },
      "execution_count": null,
      "outputs": []
    }
  ]
}