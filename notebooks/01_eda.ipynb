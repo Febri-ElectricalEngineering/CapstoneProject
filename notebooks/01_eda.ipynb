{
  "nbformat": 4,
  "nbformat_minor": 0,
  "metadata": {
    "colab": {
      "provenance": [],
      "authorship_tag": "ABX9TyMWfNkoAlyVB8Ddz8DXnzZC",
      "include_colab_link": true
    },
    "kernelspec": {
      "name": "python3",
      "display_name": "Python 3"
    },
    "language_info": {
      "name": "python"
    }
  },
  "cells": [
    {
      "cell_type": "markdown",
      "metadata": {
        "id": "view-in-github",
        "colab_type": "text"
      },
      "source": [
        "<a href=\"https://colab.research.google.com/github/Febri-ElectricalEngineering/CapstoneProject/blob/main/notebooks/01_eda.ipynb\" target=\"_parent\"><img src=\"https://colab.research.google.com/assets/colab-badge.svg\" alt=\"Open In Colab\"/></a>"
      ]
    },
    {
      "cell_type": "code",
      "execution_count": null,
      "metadata": {
        "id": "Gyyaa4_FZEtg"
      },
      "outputs": [],
      "source": [
        "REPO_URL = \"https://github.com/Febri-ElectricalEngineering/CapstoneProject.git\""
      ]
    },
    {
      "cell_type": "code",
      "source": [
        "!rm -rf repo\n",
        "!git clone -q {REPO_URL} repo\n",
        "%cd /content/repo\n",
        "!pip -q install -r requirements.txt"
      ],
      "metadata": {
        "colab": {
          "base_uri": "https://localhost:8080/"
        },
        "id": "z-zyvlZCZJ0g",
        "outputId": "bdc37cee-c520-4729-c824-d8d63579dc26"
      },
      "execution_count": null,
      "outputs": [
        {
          "output_type": "stream",
          "name": "stdout",
          "text": [
            "/content/repo\n",
            "  Preparing metadata (setup.py) ... \u001b[?25l\u001b[?25hdone\n",
            "\u001b[2K   \u001b[90m━━━━━━━━━━━━━━━━━━━━━━━━━━━━━━━━━━━━━━━━\u001b[0m \u001b[32m61.3/61.3 MB\u001b[0m \u001b[31m12.4 MB/s\u001b[0m eta \u001b[36m0:00:00\u001b[0m\n",
            "\u001b[?25h  Building wheel for rouge-score (setup.py) ... \u001b[?25l\u001b[?25hdone\n"
          ]
        }
      ]
    },
    {
      "cell_type": "code",
      "source": [
        "from pathlib import Path\n",
        "Path('data/bbc_cls').mkdir(parents=True, exist_ok=True)\n",
        "Path('data/bbc_sum').mkdir(parents=True, exist_ok=True)"
      ],
      "metadata": {
        "id": "uaMHOR3RZJyK"
      },
      "execution_count": null,
      "outputs": []
    },
    {
      "cell_type": "code",
      "source": [
        "from src.utils import load_bbc_dir, load_summary_csv, clean_text, stratified_split, seed_everything\n",
        "seed_everything(42)\n",
        "print(\"Ready.\")"
      ],
      "metadata": {
        "colab": {
          "base_uri": "https://localhost:8080/"
        },
        "id": "qOarGxwaZJ6t",
        "outputId": "00c34b8b-3fac-4f59-c8ec-808ed655ba6d"
      },
      "execution_count": null,
      "outputs": [
        {
          "output_type": "stream",
          "name": "stdout",
          "text": [
            "Ready.\n"
          ]
        }
      ]
    },
    {
      "cell_type": "code",
      "source": [
        "from pathlib import Path\n",
        "assert Path('/content/BBC.zip').exists(), \"Upload BBC.zip dulu via panel Files.\"\n",
        "assert Path('/content/bbc_news_summary.csv').exists(), \"Upload bbc_news_summary.csv dulu via panel Files.\"\n",
        "print(\"Files found.\")"
      ],
      "metadata": {
        "colab": {
          "base_uri": "https://localhost:8080/"
        },
        "id": "klWCS1JQZJwF",
        "outputId": "17220785-5062-4255-9497-38101c494877"
      },
      "execution_count": null,
      "outputs": [
        {
          "output_type": "stream",
          "name": "stdout",
          "text": [
            "Files found.\n"
          ]
        }
      ]
    },
    {
      "cell_type": "code",
      "source": [
        "import shutil, zipfile\n",
        "from pathlib import Path"
      ],
      "metadata": {
        "id": "ZAlTNU51ZJtv"
      },
      "execution_count": null,
      "outputs": []
    },
    {
      "cell_type": "code",
      "source": [
        "shutil.copy('/content/bbc_news_summary.csv', 'data/bbc_sum/bbc_news_summary.csv')"
      ],
      "metadata": {
        "colab": {
          "base_uri": "https://localhost:8080/",
          "height": 36
        },
        "id": "H5-8eOnUZJrM",
        "outputId": "d32f18b9-0ae4-4523-d1f1-fa4743540e60"
      },
      "execution_count": null,
      "outputs": [
        {
          "output_type": "execute_result",
          "data": {
            "text/plain": [
              "'data/bbc_sum/bbc_news_summary.csv'"
            ],
            "application/vnd.google.colaboratory.intrinsic+json": {
              "type": "string"
            }
          },
          "metadata": {},
          "execution_count": 11
        }
      ]
    },
    {
      "cell_type": "code",
      "source": [
        "with zipfile.ZipFile('/content/BBC.zip','r') as z:\n",
        "    z.extractall('data/bbc_cls')\n",
        "root_candidates = []\n",
        "for p in Path('data/bbc_cls').rglob('*'):\n",
        "    if all((p/d).exists() for d in ['business','entertainment','politics','sport','tech']):\n",
        "        root_candidates.append(p)\n",
        "print(\"Kandidat folder BBC:\", root_candidates)\n",
        "assert root_candidates, \"Folder kategori BBC tidak ditemukan di dalam ZIP.\"\n",
        "BBC_DIR = root_candidates[0]\n",
        "BBC_DIR"
      ],
      "metadata": {
        "colab": {
          "base_uri": "https://localhost:8080/"
        },
        "id": "wJqkrVouZJnH",
        "outputId": "a91122b5-7698-4502-b1df-55a283e019cf"
      },
      "execution_count": null,
      "outputs": [
        {
          "output_type": "stream",
          "name": "stdout",
          "text": [
            "Kandidat folder BBC: [PosixPath('data/bbc_cls/bbc')]\n"
          ]
        },
        {
          "output_type": "execute_result",
          "data": {
            "text/plain": [
              "PosixPath('data/bbc_cls/bbc')"
            ]
          },
          "metadata": {},
          "execution_count": 12
        }
      ]
    },
    {
      "cell_type": "code",
      "source": [
        "import pandas as pd\n",
        "from pathlib import Path"
      ],
      "metadata": {
        "id": "X-gahZMUZJjK"
      },
      "execution_count": null,
      "outputs": []
    },
    {
      "cell_type": "code",
      "source": [
        "df_cls = load_bbc_dir(BBC_DIR)\n",
        "print(\"Jumlah dokumen BBC:\", len(df_cls))\n",
        "print(df_cls['label'].value_counts())"
      ],
      "metadata": {
        "colab": {
          "base_uri": "https://localhost:8080/"
        },
        "id": "Tdvs2RMHZJgo",
        "outputId": "95216f08-d43d-4747-85c1-cf9aa48eb07c"
      },
      "execution_count": null,
      "outputs": [
        {
          "output_type": "stream",
          "name": "stdout",
          "text": [
            "Jumlah dokumen BBC: 2225\n",
            "label\n",
            "sport            511\n",
            "business         510\n",
            "politics         417\n",
            "tech             401\n",
            "entertainment    386\n",
            "Name: count, dtype: int64\n"
          ]
        }
      ]
    },
    {
      "cell_type": "code",
      "source": [
        "sum_csv = Path('data/bbc_sum/bbc_news_summary.csv')\n",
        "df_sum = load_summary_csv(sum_csv, text_col='Text', summary_col='Summary')\n",
        "print(\"Jumlah baris ringkasan:\", len(df_sum))"
      ],
      "metadata": {
        "colab": {
          "base_uri": "https://localhost:8080/"
        },
        "id": "E2MwMVVwZJdD",
        "outputId": "06d06fa9-c81b-471e-9914-a93742c344a6"
      },
      "execution_count": null,
      "outputs": [
        {
          "output_type": "stream",
          "name": "stdout",
          "text": [
            "Jumlah baris ringkasan: 2125\n"
          ]
        }
      ]
    },
    {
      "cell_type": "code",
      "source": [
        "df_cls.to_csv('data/bbc_cls/clean.csv', index=False)\n",
        "df_sum.to_csv('data/bbc_sum/clean.csv', index=False)"
      ],
      "metadata": {
        "id": "Ktg6S9BWZJZL"
      },
      "execution_count": null,
      "outputs": []
    },
    {
      "cell_type": "code",
      "source": [
        "train_cls, test_cls = stratified_split(df_cls, label_col='label', test_size=0.2, seed=42)\n",
        "train_cls.to_csv('data/bbc_cls/train.csv', index=False)\n",
        "test_cls.to_csv('data/bbc_cls/test.csv', index=False)\n",
        "\n",
        "print(\"Saved:\")\n",
        "print(\"- data/bbc_cls/clean.csv, train.csv, test.csv\")\n",
        "print(\"- data/bbc_sum/clean.csv\")"
      ],
      "metadata": {
        "colab": {
          "base_uri": "https://localhost:8080/"
        },
        "id": "XfqNed6RZJW6",
        "outputId": "aa49aa46-efa1-4c3b-9839-e7b8ac8184ee"
      },
      "execution_count": null,
      "outputs": [
        {
          "output_type": "stream",
          "name": "stdout",
          "text": [
            "Saved:\n",
            "- data/bbc_cls/clean.csv, train.csv, test.csv\n",
            "- data/bbc_sum/clean.csv\n"
          ]
        }
      ]
    },
    {
      "cell_type": "code",
      "source": [],
      "metadata": {
        "id": "GSL0iMc9ZJS0"
      },
      "execution_count": null,
      "outputs": []
    },
    {
      "cell_type": "code",
      "source": [],
      "metadata": {
        "id": "GNOVT8fTZJPu"
      },
      "execution_count": null,
      "outputs": []
    }
  ]
}